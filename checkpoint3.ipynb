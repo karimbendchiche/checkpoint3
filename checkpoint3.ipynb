{
 "cells": [
  {
   "cell_type": "markdown",
   "id": "c5b6264c",
   "metadata": {},
   "source": [
    "# Q1"
   ]
  },
  {
   "cell_type": "code",
   "execution_count": 1,
   "id": "dba16b84",
   "metadata": {},
   "outputs": [
    {
     "name": "stdout",
     "output_type": "stream",
     "text": [
      "720\n"
     ]
    }
   ],
   "source": [
    "list = [8, 9, 10]\n",
    "prod = list[0] * list[1] * list[2]\n",
    "print(prod)"
   ]
  },
  {
   "cell_type": "markdown",
   "id": "ccf299c7",
   "metadata": {},
   "source": [
    "# Q2"
   ]
  },
  {
   "cell_type": "code",
   "execution_count": 3,
   "id": "2fe01422",
   "metadata": {},
   "outputs": [
    {
     "name": "stdout",
     "output_type": "stream",
     "text": [
      "[(213, 3), (18, 4), (12738, 20), (77, 239), (99, 1000)]\n"
     ]
    }
   ],
   "source": [
    "list = [(213, 3), (77, 239), (12738, 20), (18, 4), (99, 1000)]\n",
    "list.sort(key = lambda a: a[1])\n",
    "print(list)"
   ]
  },
  {
   "cell_type": "markdown",
   "id": "99140382",
   "metadata": {},
   "source": [
    "# Q3"
   ]
  },
  {
   "cell_type": "code",
   "execution_count": 9,
   "id": "ec686169",
   "metadata": {},
   "outputs": [
    {
     "name": "stdout",
     "output_type": "stream",
     "text": [
      "{'pts': 125, 'vies': 175, 'monde': 75, 'niveau': 150}\n"
     ]
    }
   ],
   "source": [
    "dic1 = {'pts': 25, 'vies': 50, 'monde':75}\n",
    "dic2 = {'pts': 100, 'vies': 125, 'niveau':150}\n",
    "dic3 = {}\n",
    "for key in dic1.keys():\n",
    "    dic3[key] = dic1[key] + dic2.get(key, 0)\n",
    "for key in dic2.keys():\n",
    "    dic3[key] = dic2[key] + dic1.get(key, 0)\n",
    "print(dic3)"
   ]
  },
  {
   "cell_type": "markdown",
   "id": "3dc034f3",
   "metadata": {},
   "source": [
    "# Q4"
   ]
  },
  {
   "cell_type": "code",
   "execution_count": 16,
   "id": "64a48268",
   "metadata": {},
   "outputs": [
    {
     "name": "stdout",
     "output_type": "stream",
     "text": [
      "Entrez un nombre entier: 5\n",
      "{1: 1, 2: 4, 3: 9, 4: 16, 5: 25}\n"
     ]
    }
   ],
   "source": [
    "n = int(input(\"Entrez un nombre entier: \"))\n",
    "dic = {}\n",
    "for i in range(1, n+1):\n",
    "    dic[i] = i*i\n",
    "print(dic)"
   ]
  },
  {
   "cell_type": "markdown",
   "id": "c5aa303e",
   "metadata": {},
   "source": [
    "# Q5"
   ]
  },
  {
   "cell_type": "code",
   "execution_count": 19,
   "id": "a2cc5648",
   "metadata": {},
   "outputs": [
    {
     "name": "stdout",
     "output_type": "stream",
     "text": [
      "[('pt1', '3.14'), ('pt3', '2.72'), ('pt2', '1.62')]\n"
     ]
    }
   ],
   "source": [
    "liste = [('pt1', '3.14'), ('pt2', '1.62'), ('pt3', '2.72')]\n",
    "liste.sort(key = lambda a: a[-1], reverse = True)\n",
    "print(liste)"
   ]
  },
  {
   "cell_type": "code",
   "execution_count": null,
   "id": "a954badc",
   "metadata": {},
   "outputs": [],
   "source": []
  }
 ],
 "metadata": {
  "kernelspec": {
   "display_name": "Python 3 (ipykernel)",
   "language": "python",
   "name": "python3"
  },
  "language_info": {
   "codemirror_mode": {
    "name": "ipython",
    "version": 3
   },
   "file_extension": ".py",
   "mimetype": "text/x-python",
   "name": "python",
   "nbconvert_exporter": "python",
   "pygments_lexer": "ipython3",
   "version": "3.9.12"
  }
 },
 "nbformat": 4,
 "nbformat_minor": 5
}
